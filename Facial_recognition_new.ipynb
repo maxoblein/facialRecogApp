{
 "cells": [
  {
   "cell_type": "markdown",
   "metadata": {
    "id": "iuQ5F9Z9j0Yg"
   },
   "source": [
    "1. Setup\n"
   ]
  },
  {
   "cell_type": "markdown",
   "metadata": {
    "id": "Ed33sdPSj8z5"
   },
   "source": [
    "1.1 Install dependencies"
   ]
  },
  {
   "cell_type": "code",
   "execution_count": 1,
   "metadata": {
    "colab": {
     "base_uri": "https://localhost:8080/"
    },
    "executionInfo": {
     "elapsed": 7923,
     "status": "ok",
     "timestamp": 1649858276071,
     "user": {
      "displayName": "Max Oblein",
      "userId": "06828242760256880514"
     },
     "user_tz": -60
    },
    "id": "PNcyVDGakZ4Q",
    "outputId": "40dde56e-b74b-4aef-f830-57f4e803464c"
   },
   "outputs": [
    {
     "name": "stdout",
     "output_type": "stream",
     "text": [
      "Requirement already satisfied: tensorflow==2.4.1 in c:\\users\\max oblein\\anaconda3\\lib\\site-packages (2.4.1)\n",
      "Requirement already satisfied: tensorflow-gpu==2.4.1 in c:\\users\\max oblein\\anaconda3\\lib\\site-packages (2.4.1)\n",
      "Requirement already satisfied: opencv-python in c:\\users\\max oblein\\anaconda3\\lib\\site-packages (4.5.5.64)\n",
      "Requirement already satisfied: matplotlib in c:\\users\\max oblein\\anaconda3\\lib\\site-packages (3.3.2)\n",
      "Requirement already satisfied: typing-extensions~=3.7.4 in c:\\users\\max oblein\\anaconda3\\lib\\site-packages (from tensorflow==2.4.1) (3.7.4.2)\n",
      "Requirement already satisfied: keras-preprocessing~=1.1.2 in c:\\users\\max oblein\\anaconda3\\lib\\site-packages (from tensorflow==2.4.1) (1.1.2)\n",
      "Requirement already satisfied: wheel~=0.35 in c:\\users\\max oblein\\anaconda3\\lib\\site-packages (from tensorflow==2.4.1) (0.37.1)\n",
      "Requirement already satisfied: tensorboard~=2.4 in c:\\users\\max oblein\\anaconda3\\lib\\site-packages (from tensorflow==2.4.1) (2.8.0)\n",
      "Requirement already satisfied: tensorflow-estimator<2.5.0,>=2.4.0 in c:\\users\\max oblein\\anaconda3\\lib\\site-packages (from tensorflow==2.4.1) (2.4.0)\n",
      "Requirement already satisfied: grpcio~=1.32.0 in c:\\users\\max oblein\\anaconda3\\lib\\site-packages (from tensorflow==2.4.1) (1.32.0)\n",
      "Requirement already satisfied: opt-einsum~=3.3.0 in c:\\users\\max oblein\\anaconda3\\lib\\site-packages (from tensorflow==2.4.1) (3.3.0)\n",
      "Requirement already satisfied: gast==0.3.3 in c:\\users\\max oblein\\anaconda3\\lib\\site-packages (from tensorflow==2.4.1) (0.3.3)\n",
      "Requirement already satisfied: numpy~=1.19.2 in c:\\users\\max oblein\\anaconda3\\lib\\site-packages (from tensorflow==2.4.1) (1.19.3)\n",
      "Requirement already satisfied: termcolor~=1.1.0 in c:\\users\\max oblein\\anaconda3\\lib\\site-packages (from tensorflow==2.4.1) (1.1.0)\n",
      "Requirement already satisfied: protobuf>=3.9.2 in c:\\users\\max oblein\\anaconda3\\lib\\site-packages (from tensorflow==2.4.1) (3.20.0)\n",
      "Requirement already satisfied: astunparse~=1.6.3 in c:\\users\\max oblein\\anaconda3\\lib\\site-packages (from tensorflow==2.4.1) (1.6.3)\n",
      "Requirement already satisfied: google-pasta~=0.2 in c:\\users\\max oblein\\anaconda3\\lib\\site-packages (from tensorflow==2.4.1) (0.2.0)\n",
      "Requirement already satisfied: six~=1.15.0 in c:\\users\\max oblein\\anaconda3\\lib\\site-packages (from tensorflow==2.4.1) (1.15.0)\n",
      "Requirement already satisfied: wrapt~=1.12.1 in c:\\users\\max oblein\\anaconda3\\lib\\site-packages (from tensorflow==2.4.1) (1.12.1)\n",
      "Requirement already satisfied: absl-py~=0.10 in c:\\users\\max oblein\\anaconda3\\lib\\site-packages (from tensorflow==2.4.1) (0.15.0)\n",
      "Requirement already satisfied: flatbuffers~=1.12.0 in c:\\users\\max oblein\\anaconda3\\lib\\site-packages (from tensorflow==2.4.1) (1.12)\n",
      "Requirement already satisfied: h5py~=2.10.0 in c:\\users\\max oblein\\anaconda3\\lib\\site-packages (from tensorflow==2.4.1) (2.10.0)\n",
      "Requirement already satisfied: certifi>=2020.06.20 in c:\\users\\max oblein\\anaconda3\\lib\\site-packages (from matplotlib) (2020.6.20)\n",
      "Requirement already satisfied: pillow>=6.2.0 in c:\\users\\max oblein\\anaconda3\\lib\\site-packages (from matplotlib) (7.2.0)\n",
      "Requirement already satisfied: kiwisolver>=1.0.1 in c:\\users\\max oblein\\anaconda3\\lib\\site-packages (from matplotlib) (1.2.0)\n",
      "Requirement already satisfied: cycler>=0.10 in c:\\users\\max oblein\\anaconda3\\lib\\site-packages (from matplotlib) (0.10.0)\n",
      "Requirement already satisfied: python-dateutil>=2.1 in c:\\users\\max oblein\\anaconda3\\lib\\site-packages (from matplotlib) (2.8.1)\n",
      "Requirement already satisfied: pyparsing!=2.0.4,!=2.1.2,!=2.1.6,>=2.0.3 in c:\\users\\max oblein\\anaconda3\\lib\\site-packages (from matplotlib) (2.4.7)\n",
      "Requirement already satisfied: google-auth<3,>=1.6.3 in c:\\users\\max oblein\\anaconda3\\lib\\site-packages (from tensorboard~=2.4->tensorflow==2.4.1) (2.6.3)\n",
      "Requirement already satisfied: markdown>=2.6.8 in c:\\users\\max oblein\\anaconda3\\lib\\site-packages (from tensorboard~=2.4->tensorflow==2.4.1) (3.3.6)\n",
      "Requirement already satisfied: requests<3,>=2.21.0 in c:\\users\\max oblein\\anaconda3\\lib\\site-packages (from tensorboard~=2.4->tensorflow==2.4.1) (2.27.1)\n",
      "Requirement already satisfied: setuptools>=41.0.0 in c:\\users\\max oblein\\anaconda3\\lib\\site-packages (from tensorboard~=2.4->tensorflow==2.4.1) (49.2.0.post20200714)\n",
      "Requirement already satisfied: tensorboard-plugin-wit>=1.6.0 in c:\\users\\max oblein\\anaconda3\\lib\\site-packages (from tensorboard~=2.4->tensorflow==2.4.1) (1.8.1)\n",
      "Requirement already satisfied: werkzeug>=0.11.15 in c:\\users\\max oblein\\anaconda3\\lib\\site-packages (from tensorboard~=2.4->tensorflow==2.4.1) (1.0.1)\n",
      "Requirement already satisfied: tensorboard-data-server<0.7.0,>=0.6.0 in c:\\users\\max oblein\\anaconda3\\lib\\site-packages (from tensorboard~=2.4->tensorflow==2.4.1) (0.6.1)\n",
      "Requirement already satisfied: google-auth-oauthlib<0.5,>=0.4.1 in c:\\users\\max oblein\\anaconda3\\lib\\site-packages (from tensorboard~=2.4->tensorflow==2.4.1) (0.4.6)\n",
      "Requirement already satisfied: pyasn1-modules>=0.2.1 in c:\\users\\max oblein\\anaconda3\\lib\\site-packages (from google-auth<3,>=1.6.3->tensorboard~=2.4->tensorflow==2.4.1) (0.2.8)\n",
      "Requirement already satisfied: rsa<5,>=3.1.4; python_version >= \"3.6\" in c:\\users\\max oblein\\anaconda3\\lib\\site-packages (from google-auth<3,>=1.6.3->tensorboard~=2.4->tensorflow==2.4.1) (4.8)\n",
      "Requirement already satisfied: cachetools<6.0,>=2.0.0 in c:\\users\\max oblein\\anaconda3\\lib\\site-packages (from google-auth<3,>=1.6.3->tensorboard~=2.4->tensorflow==2.4.1) (5.0.0)\n",
      "Requirement already satisfied: importlib-metadata>=4.4; python_version < \"3.10\" in c:\\users\\max oblein\\anaconda3\\lib\\site-packages (from markdown>=2.6.8->tensorboard~=2.4->tensorflow==2.4.1) (4.11.3)\n",
      "Requirement already satisfied: idna<4,>=2.5; python_version >= \"3\" in c:\\users\\max oblein\\anaconda3\\lib\\site-packages (from requests<3,>=2.21.0->tensorboard~=2.4->tensorflow==2.4.1) (2.10)\n",
      "Requirement already satisfied: urllib3<1.27,>=1.21.1 in c:\\users\\max oblein\\anaconda3\\lib\\site-packages (from requests<3,>=2.21.0->tensorboard~=2.4->tensorflow==2.4.1) (1.25.9)\n",
      "Requirement already satisfied: charset-normalizer~=2.0.0; python_version >= \"3\" in c:\\users\\max oblein\\anaconda3\\lib\\site-packages (from requests<3,>=2.21.0->tensorboard~=2.4->tensorflow==2.4.1) (2.0.10)\n",
      "Requirement already satisfied: requests-oauthlib>=0.7.0 in c:\\users\\max oblein\\anaconda3\\lib\\site-packages (from google-auth-oauthlib<0.5,>=0.4.1->tensorboard~=2.4->tensorflow==2.4.1) (1.3.1)\n",
      "Requirement already satisfied: pyasn1<0.5.0,>=0.4.6 in c:\\users\\max oblein\\anaconda3\\lib\\site-packages (from pyasn1-modules>=0.2.1->google-auth<3,>=1.6.3->tensorboard~=2.4->tensorflow==2.4.1) (0.4.8)\n",
      "Requirement already satisfied: zipp>=0.5 in c:\\users\\max oblein\\anaconda3\\lib\\site-packages (from importlib-metadata>=4.4; python_version < \"3.10\"->markdown>=2.6.8->tensorboard~=2.4->tensorflow==2.4.1) (3.1.0)\n",
      "Requirement already satisfied: oauthlib>=3.0.0 in c:\\users\\max oblein\\anaconda3\\lib\\site-packages (from requests-oauthlib>=0.7.0->google-auth-oauthlib<0.5,>=0.4.1->tensorboard~=2.4->tensorflow==2.4.1) (3.2.0)\n"
     ]
    }
   ],
   "source": [
    "!pip install tensorflow==2.4.1 tensorflow-gpu==2.4.1 opencv-python matplotlib"
   ]
  },
  {
   "cell_type": "markdown",
   "metadata": {
    "id": "O5PnnVrokDFV"
   },
   "source": [
    "1.2 import dependencies"
   ]
  },
  {
   "cell_type": "code",
   "execution_count": 1,
   "metadata": {
    "executionInfo": {
     "elapsed": 244,
     "status": "ok",
     "timestamp": 1649858284090,
     "user": {
      "displayName": "Max Oblein",
      "userId": "06828242760256880514"
     },
     "user_tz": -60
    },
    "id": "bcqOYp1ZsvKI"
   },
   "outputs": [],
   "source": [
    "#import standard dependencies\n",
    "import cv2\n",
    "import os\n",
    "import random\n",
    "import numpy as np\n",
    "from matplotlib import pyplot as plt\n",
    "\n",
    "#import tensorflow dependencies\n",
    "from tensorflow.keras.models import Model\n",
    "from tensorflow.keras.layers import Layer, Conv2D, Dense, MaxPooling2D, Input, Flatten\n",
    "import tensorflow as tf"
   ]
  },
  {
   "cell_type": "markdown",
   "metadata": {
    "id": "mYM_AuxckDVs"
   },
   "source": [
    "1.3 Set GPU growth"
   ]
  },
  {
   "cell_type": "code",
   "execution_count": 2,
   "metadata": {
    "id": "BvdECObavmm6"
   },
   "outputs": [],
   "source": [
    "#Avoid OOM errors by setting gpu consumption limit\n",
    "gpus = tf.config.experimental.list_physical_devices('GPU')\n",
    "for gpu in gpus:\n",
    "  tf.config.experimental.set_memory_growth(gpu,True)"
   ]
  },
  {
   "cell_type": "markdown",
   "metadata": {
    "id": "qYK0czLzkD16"
   },
   "source": [
    "1.4 Create folder structure"
   ]
  },
  {
   "cell_type": "code",
   "execution_count": 3,
   "metadata": {
    "id": "nd7_mcFgj66h"
   },
   "outputs": [],
   "source": [
    "# setup paths\n",
    "POS_PATH= os.path.join('data','positive')\n",
    "NEG_PATH= os.path.join('data','negative')\n",
    "ANC_PATH= os.path.join('data','anchor')"
   ]
  },
  {
   "cell_type": "code",
   "execution_count": 4,
   "metadata": {
    "id": "_kJC_PgDx2-U"
   },
   "outputs": [],
   "source": [
    "#make directories\n",
    "# os.makedirs(POS_PATH)\n",
    "# os.makedirs(NEG_PATH)\n",
    "# os.makedirs(ANC_PATH)"
   ]
  },
  {
   "cell_type": "markdown",
   "metadata": {
    "id": "1XEsndO_0IG-"
   },
   "source": [
    "2.Collecting data"
   ]
  },
  {
   "cell_type": "markdown",
   "metadata": {
    "id": "f7eQn_LkMroS"
   },
   "source": [
    "collect face database"
   ]
  },
  {
   "cell_type": "code",
   "execution_count": 5,
   "metadata": {
    "executionInfo": {
     "elapsed": 225,
     "status": "ok",
     "timestamp": 1649858845784,
     "user": {
      "displayName": "Max Oblein",
      "userId": "06828242760256880514"
     },
     "user_tz": -60
    },
    "id": "2N8vfSFGOgvG"
   },
   "outputs": [],
   "source": [
    "#http://vis-www.cs.umass.edu/lfw"
   ]
  },
  {
   "cell_type": "code",
   "execution_count": 6,
   "metadata": {
    "colab": {
     "base_uri": "https://localhost:8080/"
    },
    "executionInfo": {
     "elapsed": 234,
     "status": "ok",
     "timestamp": 1649858896125,
     "user": {
      "displayName": "Max Oblein",
      "userId": "06828242760256880514"
     },
     "user_tz": -60
    },
    "id": "_gIG41q6QBmL",
    "outputId": "ca3bb713-34f3-46ac-fa21-0ae106223830"
   },
   "outputs": [],
   "source": [
    "#uncompress the face data\n",
    "#!tar -xf lfw.tgz"
   ]
  },
  {
   "cell_type": "code",
   "execution_count": 10,
   "metadata": {
    "id": "DzzWvaxqQN6D"
   },
   "outputs": [],
   "source": [
    "# #move images into negative file data\n",
    "# for directory in os.listdir('lfw'):\n",
    "#     for file in os.listdir(os.path.join('lfw',directory)):\n",
    "#         EX_PATH = os.path.join('lfw',directory,file)\n",
    "#         NEW_PATH = os.path.join(NEG_PATH,file)\n",
    "#         os.replace(EX_PATH,NEW_PATH)"
   ]
  },
  {
   "cell_type": "markdown",
   "metadata": {},
   "source": [
    "2. Collect positive and anchor cases"
   ]
  },
  {
   "cell_type": "code",
   "execution_count": 7,
   "metadata": {},
   "outputs": [],
   "source": [
    "#import uuid to generate unique image names\n",
    "import uuid"
   ]
  },
  {
   "cell_type": "code",
   "execution_count": 22,
   "metadata": {},
   "outputs": [],
   "source": [
    "#establish a connection to webcam\n",
    "cap= cv2.VideoCapture(0)\n",
    "while cap.isOpened():\n",
    "    ret, frame = cap.read()\n",
    "\n",
    "    #cut down frame\n",
    "    frame = frame[120:120+250,200:200+250,:]\n",
    "\n",
    "    #collect anchors\n",
    "    if cv2.waitKey(1) & 0XFF == ord('a'):\n",
    "        imgname = os.path.join(ANC_PATH, '{}.jpg'.format(uuid.uuid1()))\n",
    "        cv2.imwrite(imgname,frame)\n",
    "        \n",
    "    #collect positives\n",
    "    if cv2.waitKey(1) & 0XFF == ord('p'):\n",
    "        imgname = os.path.join(POS_PATH, '{}.jpg'.format(uuid.uuid1()))\n",
    "        cv2.imwrite(imgname,frame)\n",
    "        \n",
    "    #show image on screen\n",
    "    cv2.imshow('Image Collection',frame)\n",
    "\n",
    "    #breaking gracefully\n",
    "    if cv2.waitKey(1) & 0XFF == ord('q'):\n",
    "        break\n",
    "#release the webcam\n",
    "cap.release()\n",
    "cv2.destroyAllWindows()"
   ]
  },
  {
   "cell_type": "markdown",
   "metadata": {},
   "source": [
    "3.Load and preprocess"
   ]
  },
  {
   "cell_type": "markdown",
   "metadata": {},
   "source": [
    "3.1 Get image directories"
   ]
  },
  {
   "cell_type": "code",
   "execution_count": 8,
   "metadata": {},
   "outputs": [],
   "source": [
    "anchor = tf.data.Dataset.list_files(ANC_PATH+'\\*.jpg').take(300)\n",
    "positive = tf.data.Dataset.list_files(POS_PATH+'\\*.jpg').take(300)\n",
    "negative = tf.data.Dataset.list_files(NEG_PATH+'\\*.jpg').take(300)"
   ]
  },
  {
   "cell_type": "markdown",
   "metadata": {},
   "source": [
    "3.2 preprocess"
   ]
  },
  {
   "cell_type": "code",
   "execution_count": 9,
   "metadata": {},
   "outputs": [],
   "source": [
    "def preprocess(file_path):\n",
    "    \n",
    "    # Read in image from file path\n",
    "    byte_img = tf.io.read_file(file_path)\n",
    "    # Load in the image \n",
    "    img = tf.io.decode_jpeg(byte_img)\n",
    "    \n",
    "    # Preprocessing steps - resizing the image to be 100x100x3\n",
    "    img = tf.image.resize(img, (100,100))\n",
    "    # Scale image to be between 0 and 1 \n",
    "    img = img / 255.0\n",
    "\n",
    "    # Return image\n",
    "    return img"
   ]
  },
  {
   "cell_type": "markdown",
   "metadata": {},
   "source": [
    "3.3 Create labelled dataset"
   ]
  },
  {
   "cell_type": "code",
   "execution_count": 10,
   "metadata": {},
   "outputs": [],
   "source": [
    "positives = tf.data.Dataset.zip((anchor, positive, tf.data.Dataset.from_tensor_slices(tf.ones(len(anchor)))))\n",
    "negatives = tf.data.Dataset.zip((anchor, negative, tf.data.Dataset.from_tensor_slices(tf.zeros(len(anchor)))))\n",
    "data = positives.concatenate(negatives)"
   ]
  },
  {
   "cell_type": "markdown",
   "metadata": {},
   "source": [
    "3.4 Create train and test partitions"
   ]
  },
  {
   "cell_type": "code",
   "execution_count": 11,
   "metadata": {},
   "outputs": [],
   "source": [
    "def preprocess_twin(input_img, validation_img, label):\n",
    "    return(preprocess(input_img), preprocess(validation_img), label)"
   ]
  },
  {
   "cell_type": "code",
   "execution_count": 12,
   "metadata": {},
   "outputs": [],
   "source": [
    "# Build dataloader pipeline\n",
    "data = data.map(preprocess_twin)\n",
    "data = data.cache()\n",
    "data = data.shuffle(buffer_size=10000)"
   ]
  },
  {
   "cell_type": "code",
   "execution_count": 13,
   "metadata": {},
   "outputs": [],
   "source": [
    "# Training partition\n",
    "train_data = data.take(round(len(data)*.7))\n",
    "train_data = train_data.batch(16)\n",
    "train_data = train_data.prefetch(8)"
   ]
  },
  {
   "cell_type": "code",
   "execution_count": 14,
   "metadata": {},
   "outputs": [],
   "source": [
    "# Testing partition\n",
    "test_data = data.skip(round(len(data)*.7))\n",
    "test_data = test_data.take(round(len(data)*.3))\n",
    "test_data = test_data.batch(16)\n",
    "test_data = test_data.prefetch(8)"
   ]
  },
  {
   "cell_type": "markdown",
   "metadata": {},
   "source": [
    "4. Model engineering"
   ]
  },
  {
   "cell_type": "markdown",
   "metadata": {},
   "source": [
    "4.1 Build embedding layer"
   ]
  },
  {
   "cell_type": "code",
   "execution_count": 15,
   "metadata": {},
   "outputs": [],
   "source": [
    "def make_embedding():\n",
    "    inp = Input(shape=(100,100,3),name='input image')\n",
    "\n",
    "    #first block\n",
    "    c1 = Conv2D(64, (10,10), activation='relu')(inp)\n",
    "    m1 = MaxPooling2D(64, (2,2), padding='same')(c1)\n",
    "\n",
    "    #second block\n",
    "    c2 = Conv2D(128, (7,7),activation='relu')(m1)\n",
    "    m2 = MaxPooling2D(64, (2,2),padding='same')(c2)\n",
    "\n",
    "    #third block\n",
    "    c3 = Conv2D(128, (4,4), activation='relu')(m2)\n",
    "    m3 = MaxPooling2D(64, (2,2),padding='same')(c3)\n",
    "\n",
    "    #final embedding block\n",
    "    c4 = Conv2D(256, (4,4), activation='relu')(m3)\n",
    "    f1 = Flatten()(c4)\n",
    "    d1 = Dense(4096,activation='sigmoid')(f1)\n",
    "\n",
    "\n",
    "    return Model(inputs=[inp], outputs=[d1], name='embedding')"
   ]
  },
  {
   "cell_type": "code",
   "execution_count": 16,
   "metadata": {},
   "outputs": [],
   "source": [
    "embedding = make_embedding()"
   ]
  },
  {
   "cell_type": "code",
   "execution_count": 17,
   "metadata": {},
   "outputs": [
    {
     "name": "stdout",
     "output_type": "stream",
     "text": [
      "Model: \"embedding\"\n",
      "_________________________________________________________________\n",
      "Layer (type)                 Output Shape              Param #   \n",
      "=================================================================\n",
      "input image (InputLayer)     [(None, 100, 100, 3)]     0         \n",
      "_________________________________________________________________\n",
      "conv2d (Conv2D)              (None, 91, 91, 64)        19264     \n",
      "_________________________________________________________________\n",
      "max_pooling2d (MaxPooling2D) (None, 46, 46, 64)        0         \n",
      "_________________________________________________________________\n",
      "conv2d_1 (Conv2D)            (None, 40, 40, 128)       401536    \n",
      "_________________________________________________________________\n",
      "max_pooling2d_1 (MaxPooling2 (None, 20, 20, 128)       0         \n",
      "_________________________________________________________________\n",
      "conv2d_2 (Conv2D)            (None, 17, 17, 128)       262272    \n",
      "_________________________________________________________________\n",
      "max_pooling2d_2 (MaxPooling2 (None, 9, 9, 128)         0         \n",
      "_________________________________________________________________\n",
      "conv2d_3 (Conv2D)            (None, 6, 6, 256)         524544    \n",
      "_________________________________________________________________\n",
      "flatten (Flatten)            (None, 9216)              0         \n",
      "_________________________________________________________________\n",
      "dense (Dense)                (None, 4096)              37752832  \n",
      "=================================================================\n",
      "Total params: 38,960,448\n",
      "Trainable params: 38,960,448\n",
      "Non-trainable params: 0\n",
      "_________________________________________________________________\n"
     ]
    }
   ],
   "source": [
    "embedding.summary()"
   ]
  },
  {
   "cell_type": "markdown",
   "metadata": {},
   "source": [
    "4.2 Make a distance layer"
   ]
  },
  {
   "cell_type": "code",
   "execution_count": 18,
   "metadata": {},
   "outputs": [],
   "source": [
    "#building custom layer\n",
    "class L1Dist(Layer):\n",
    "    def __init__(self,**kwargs):\n",
    "        super().__init__()\n",
    "    #where it happens\n",
    "    def call(self, input_embedding, validation_embedding):\n",
    "        return tf.math.abs(input_embedding - validation_embedding)\n"
   ]
  },
  {
   "cell_type": "markdown",
   "metadata": {},
   "source": [
    "4.3 Make siamese model"
   ]
  },
  {
   "cell_type": "code",
   "execution_count": 32,
   "metadata": {},
   "outputs": [],
   "source": [
    "def make_siamese_model():\n",
    "    #handle inputs\n",
    "    input_image = Input(name='input image', shape=(100,100,3))\n",
    "    validation_image = Input(name='validation_image',shape=(100,100,3))\n",
    "\n",
    "    #combine siamese distance components\n",
    "    siamese_layer = L1Dist()\n",
    "    siamese_layer._name = 'distance'\n",
    "    distances = siamese_layer(embedding(input_image),embedding(validation_image))\n",
    "\n",
    "    #classification layer\n",
    "    classifier = Dense(1,activation='sigmoid')(distances)\n",
    "\n",
    "    return Model(inputs=[input_image, validation_image], outputs=classifier,name='SiameseNetwork')\n"
   ]
  },
  {
   "cell_type": "code",
   "execution_count": 34,
   "metadata": {},
   "outputs": [],
   "source": [
    "siamese_model = make_siamese_model()"
   ]
  },
  {
   "cell_type": "code",
   "execution_count": 35,
   "metadata": {},
   "outputs": [
    {
     "name": "stdout",
     "output_type": "stream",
     "text": [
      "Model: \"SiameseNetwork\"\n",
      "__________________________________________________________________________________________________\n",
      "Layer (type)                    Output Shape         Param #     Connected to                     \n",
      "==================================================================================================\n",
      "input image (InputLayer)        [(None, 100, 100, 3) 0                                            \n",
      "__________________________________________________________________________________________________\n",
      "validation_image (InputLayer)   [(None, 100, 100, 3) 0                                            \n",
      "__________________________________________________________________________________________________\n",
      "embedding (Functional)          (None, 4096)         38960448    input image[0][0]                \n",
      "                                                                 validation_image[0][0]           \n",
      "__________________________________________________________________________________________________\n",
      "distance (L1Dist)               (None, 4096)         0           embedding[2][0]                  \n",
      "                                                                 embedding[3][0]                  \n",
      "__________________________________________________________________________________________________\n",
      "dense_2 (Dense)                 (None, 1)            4097        distance[0][0]                   \n",
      "==================================================================================================\n",
      "Total params: 38,964,545\n",
      "Trainable params: 38,964,545\n",
      "Non-trainable params: 0\n",
      "__________________________________________________________________________________________________\n"
     ]
    }
   ],
   "source": [
    "siamese_model.summary()"
   ]
  },
  {
   "cell_type": "markdown",
   "metadata": {},
   "source": [
    "5. Train the neural network"
   ]
  },
  {
   "cell_type": "markdown",
   "metadata": {},
   "source": [
    "5.1 Setup loss function"
   ]
  },
  {
   "cell_type": "code",
   "execution_count": 36,
   "metadata": {},
   "outputs": [],
   "source": [
    "#Network tries to minimise the loss function\n",
    "#Get loss function from tensorflow\n",
    "binary_cross_loss = tf.losses.BinaryCrossentropy()"
   ]
  },
  {
   "cell_type": "markdown",
   "metadata": {},
   "source": [
    "5.1.2 Define the optimiser"
   ]
  },
  {
   "cell_type": "code",
   "execution_count": 37,
   "metadata": {},
   "outputs": [],
   "source": [
    "#Define optimiser\n",
    "opt = tf.keras.optimizers.Adam(1e-4)"
   ]
  },
  {
   "cell_type": "markdown",
   "metadata": {},
   "source": [
    "5.2 Establish checkpoints"
   ]
  },
  {
   "cell_type": "code",
   "execution_count": 45,
   "metadata": {},
   "outputs": [],
   "source": [
    "#setup checkpoint directory\n",
    "checkpoint_dir = './training_checkpoints'\n",
    "\n",
    "#create prefix for each checkpoint\n",
    "checkpoint_prefix = os.path.join(checkpoint_dir,'ckpt')\n",
    "\n",
    "#create checkpoint\n",
    "checkpoint = tf.train.Checkpoint(opt=opt,siamese_model=siamese_model)\n"
   ]
  },
  {
   "cell_type": "markdown",
   "metadata": {},
   "source": [
    "5.3 Build a custom training step"
   ]
  },
  {
   "cell_type": "code",
   "execution_count": 46,
   "metadata": {},
   "outputs": [],
   "source": [
    "@tf.function\n",
    "def train_step(batch):\n",
    "\n",
    "    with tf.GradientTape() as tape:\n",
    "        #get anchor and validation image\n",
    "        X = batch[:2]\n",
    "        #get label\n",
    "        y= batch[2]\n",
    "\n",
    "        #forward pass\n",
    "        yhat = siamese_model(X, training=True)\n",
    "        #calculate loss\n",
    "        loss = binary_cross_loss(y,yhat)\n",
    "\n",
    "    \n",
    "    \n",
    "    #calculate gradients\n",
    "    grad = tape.gradient(loss,siamese_model.trainable_variables)\n",
    "\n",
    "    #calculate updated weights and apply\n",
    "    opt.apply_gradients(zip(grad,siamese_model.trainable_variables))\n",
    "\n",
    "    \n",
    "\n",
    "    "
   ]
  },
  {
   "cell_type": "markdown",
   "metadata": {},
   "source": [
    "5.4 Define a training loop"
   ]
  },
  {
   "cell_type": "code",
   "execution_count": 54,
   "metadata": {},
   "outputs": [],
   "source": [
    "def train(data,EPOCHS):\n",
    "    #loop through the epochs\n",
    "    for epoch in range(1,EPOCHS+1):\n",
    "        print('\\n Epoch {}/{}'.format(epoch,EPOCHS))\n",
    "        progbar = tf.keras.utils.Progbar(len(data))\n",
    "\n",
    "        #loop through each batch\n",
    "        for idx,batch in enumerate(data):\n",
    "            #run train step\n",
    "            train_step(batch)\n",
    "            progbar.update(idx+1)\n",
    "\n",
    "        #save checkpoints\n",
    "        if epoch%10 ==0:\n",
    "            checkpoint.save(file_prefix=checkpoint_prefix)\n",
    "\n",
    "    \n"
   ]
  },
  {
   "cell_type": "markdown",
   "metadata": {},
   "source": [
    "5.5 Train the model"
   ]
  },
  {
   "cell_type": "code",
   "execution_count": 55,
   "metadata": {},
   "outputs": [],
   "source": [
    "EPOCHS = 50"
   ]
  },
  {
   "cell_type": "code",
   "execution_count": 56,
   "metadata": {},
   "outputs": [
    {
     "name": "stdout",
     "output_type": "stream",
     "text": [
      "\n",
      " Epoch 1/50\n",
      "27/27 [==============================] - 509s 19s/step\n",
      "\n",
      " Epoch 2/50\n",
      "27/27 [==============================] - 508s 19s/step\n",
      "\n",
      " Epoch 3/50\n",
      "27/27 [==============================] - 508s 19s/step\n",
      "\n",
      " Epoch 4/50\n",
      "27/27 [==============================] - 508s 19s/step\n",
      "\n",
      " Epoch 5/50\n",
      "27/27 [==============================] - 509s 19s/step\n",
      "\n",
      " Epoch 6/50\n",
      "27/27 [==============================] - 509s 19s/step\n",
      "\n",
      " Epoch 7/50\n",
      "27/27 [==============================] - 507s 19s/step\n",
      "\n",
      " Epoch 8/50\n",
      "27/27 [==============================] - 510s 19s/step\n",
      "\n",
      " Epoch 9/50\n",
      "27/27 [==============================] - 510s 19s/step\n",
      "\n",
      " Epoch 10/50\n",
      "27/27 [==============================] - 508s 19s/step\n",
      "\n",
      " Epoch 11/50\n",
      "27/27 [==============================] - 509s 19s/step\n",
      "\n",
      " Epoch 12/50\n",
      "27/27 [==============================] - 508s 19s/step\n",
      "\n",
      " Epoch 13/50\n",
      "27/27 [==============================] - 507s 19s/step\n",
      "\n",
      " Epoch 14/50\n",
      "27/27 [==============================] - 507s 19s/step\n",
      "\n",
      " Epoch 15/50\n",
      "27/27 [==============================] - 509s 19s/step\n",
      "\n",
      " Epoch 16/50\n",
      "27/27 [==============================] - 507s 19s/step\n",
      "\n",
      " Epoch 17/50\n",
      "27/27 [==============================] - 514s 19s/step\n",
      "\n",
      " Epoch 18/50\n",
      "27/27 [==============================] - 507s 19s/step\n",
      "\n",
      " Epoch 19/50\n",
      "27/27 [==============================] - 508s 19s/step\n",
      "\n",
      " Epoch 20/50\n",
      "27/27 [==============================] - 508s 19s/step\n",
      "\n",
      " Epoch 21/50\n",
      "27/27 [==============================] - 510s 19s/step\n",
      "\n",
      " Epoch 22/50\n",
      "27/27 [==============================] - 507s 19s/step\n",
      "\n",
      " Epoch 23/50\n",
      "27/27 [==============================] - 507s 19s/step\n",
      "\n",
      " Epoch 24/50\n",
      "27/27 [==============================] - 509s 19s/step\n",
      "\n",
      " Epoch 25/50\n",
      "27/27 [==============================] - 507s 19s/step\n",
      "\n",
      " Epoch 26/50\n",
      "27/27 [==============================] - 508s 19s/step\n",
      "\n",
      " Epoch 27/50\n",
      "27/27 [==============================] - 509s 19s/step\n",
      "\n",
      " Epoch 28/50\n",
      "27/27 [==============================] - 507s 19s/step\n",
      "\n",
      " Epoch 29/50\n",
      "27/27 [==============================] - 509s 19s/step\n",
      "\n",
      " Epoch 30/50\n",
      "27/27 [==============================] - 510s 19s/step\n",
      "\n",
      " Epoch 31/50\n",
      "27/27 [==============================] - 511s 19s/step\n",
      "\n",
      " Epoch 32/50\n",
      "27/27 [==============================] - 509s 19s/step\n",
      "\n",
      " Epoch 33/50\n",
      "27/27 [==============================] - 509s 19s/step\n",
      "\n",
      " Epoch 34/50\n",
      "27/27 [==============================] - 509s 19s/step\n",
      "\n",
      " Epoch 35/50\n",
      "27/27 [==============================] - 511s 19s/step\n",
      "\n",
      " Epoch 36/50\n",
      "27/27 [==============================] - 510s 19s/step\n",
      "\n",
      " Epoch 37/50\n",
      "27/27 [==============================] - 508s 19s/step\n",
      "\n",
      " Epoch 38/50\n",
      "27/27 [==============================] - 508s 19s/step\n",
      "\n",
      " Epoch 39/50\n",
      "27/27 [==============================] - 510s 19s/step\n",
      "\n",
      " Epoch 40/50\n",
      "27/27 [==============================] - 508s 19s/step\n",
      "\n",
      " Epoch 41/50\n",
      "27/27 [==============================] - 510s 19s/step\n",
      "\n",
      " Epoch 42/50\n",
      "27/27 [==============================] - 509s 19s/step\n",
      "\n",
      " Epoch 43/50\n",
      "27/27 [==============================] - 508s 19s/step\n",
      "\n",
      " Epoch 44/50\n",
      "27/27 [==============================] - 507s 19s/step\n",
      "\n",
      " Epoch 45/50\n",
      "27/27 [==============================] - 509s 19s/step\n",
      "\n",
      " Epoch 46/50\n",
      "27/27 [==============================] - 509s 19s/step\n",
      "\n",
      " Epoch 47/50\n",
      "27/27 [==============================] - 508s 19s/step\n",
      "\n",
      " Epoch 48/50\n",
      "27/27 [==============================] - 508s 19s/step\n",
      "\n",
      " Epoch 49/50\n",
      "27/27 [==============================] - 507s 19s/step\n",
      "\n",
      " Epoch 50/50\n",
      "27/27 [==============================] - 507s 19s/step\n"
     ]
    }
   ],
   "source": [
    "train(train_data,EPOCHS)"
   ]
  },
  {
   "cell_type": "code",
   "execution_count": null,
   "metadata": {},
   "outputs": [],
   "source": []
  }
 ],
 "metadata": {
  "colab": {
   "authorship_tag": "ABX9TyPnGXAfA2dbdJFQsl7JTl6x",
   "mount_file_id": "1Z2LK4trvVBPDdFdL6q_Hw_J9LFKfGThS",
   "name": "Facial_recognition.ipynb",
   "provenance": []
  },
  "kernelspec": {
   "display_name": "Python 3",
   "language": "python",
   "name": "python3"
  },
  "language_info": {
   "codemirror_mode": {
    "name": "ipython",
    "version": 3
   },
   "file_extension": ".py",
   "mimetype": "text/x-python",
   "name": "python",
   "nbconvert_exporter": "python",
   "pygments_lexer": "ipython3",
   "version": "3.8.3"
  }
 },
 "nbformat": 4,
 "nbformat_minor": 1
}
